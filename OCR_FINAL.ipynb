{
  "cells": [
    {
      "cell_type": "code",
      "source": [
        "!pip install -q -U langchain transformers bitsandbytes accelerate\n"
      ],
      "metadata": {
        "id": "HuARHKdwVOZ9"
      },
      "execution_count": 4,
      "outputs": []
    },
    {
      "cell_type": "code",
      "source": [
        "!huggingface-cli login"
      ],
      "metadata": {
        "id": "wuk_ijUiKo3S",
        "outputId": "1ae50719-973e-441f-b0f9-61fb979bbb53",
        "colab": {
          "base_uri": "https://localhost:8080/"
        }
      },
      "execution_count": 5,
      "outputs": [
        {
          "output_type": "stream",
          "name": "stdout",
          "text": [
            "\n",
            "    _|    _|  _|    _|    _|_|_|    _|_|_|  _|_|_|  _|      _|    _|_|_|      _|_|_|_|    _|_|      _|_|_|  _|_|_|_|\n",
            "    _|    _|  _|    _|  _|        _|          _|    _|_|    _|  _|            _|        _|    _|  _|        _|\n",
            "    _|_|_|_|  _|    _|  _|  _|_|  _|  _|_|    _|    _|  _|  _|  _|  _|_|      _|_|_|    _|_|_|_|  _|        _|_|_|\n",
            "    _|    _|  _|    _|  _|    _|  _|    _|    _|    _|    _|_|  _|    _|      _|        _|    _|  _|        _|\n",
            "    _|    _|    _|_|      _|_|_|    _|_|_|  _|_|_|  _|      _|    _|_|_|      _|        _|    _|    _|_|_|  _|_|_|_|\n",
            "\n",
            "    A token is already saved on your machine. Run `huggingface-cli whoami` to get more information or `huggingface-cli logout` if you want to log out.\n",
            "    Setting a new token will erase the existing one.\n",
            "    To login, `huggingface_hub` requires a token generated from https://huggingface.co/settings/tokens .\n",
            "Enter your token (input will not be visible): \n",
            "Add token as git credential? (Y/n) y\n",
            "Token is valid (permission: write).\n",
            "\u001b[1m\u001b[31mCannot authenticate through git-credential as no helper is defined on your machine.\n",
            "You might have to re-authenticate when pushing to the Hugging Face Hub.\n",
            "Run the following command in your terminal in case you want to set the 'store' credential helper as default.\n",
            "\n",
            "git config --global credential.helper store\n",
            "\n",
            "Read https://git-scm.com/book/en/v2/Git-Tools-Credential-Storage for more details.\u001b[0m\n",
            "Token has not been saved to git credential helper.\n",
            "Your token has been saved to /root/.cache/huggingface/token\n",
            "Login successful\n"
          ]
        }
      ]
    },
    {
      "cell_type": "code",
      "source": [
        "import torch\n",
        "from transformers import AutoModelForCausalLM, AutoTokenizer, GenerationConfig, BitsAndBytesConfig\n",
        "from transformers import BitsAndBytesConfig\n",
        "import accelerate\n",
        "# quantization_config = BitsAndBytesConfig(llm_int8_enable_fp32_cpu_offload=True)\n",
        "bnb_config = BitsAndBytesConfig(\n",
        "    llm_int8_enable_fp32_cpu_offload=True,\n",
        "    load_in_4bit=True,\n",
        "    bnb_4bit_use_double_quant=True,\n",
        "    bnb_4bit_quant_type=\"nf4\",\n",
        "    bnb_4bit_compute_dtype=torch.bfloat16,\n",
        ")\n",
        "# control model memory allocation between devices for low GPU resource (0,cpu)\n",
        "device_map = {\n",
        "    \"transformer.word_embeddings\": 0,\n",
        "    \"transformer.word_embeddings_layernorm\": 0,\n",
        "    \"lm_head\": 0,\n",
        "    \"transformer.h\": 0,\n",
        "    \"transformer.ln_f\": 0,\n",
        "    \"model.embed_tokens\": 0,\n",
        "    \"model.layers\":0,\n",
        "    \"model.norm\":0\n",
        "}\n",
        "device = \"cuda\" if torch.cuda.is_available() else \"cpu\"\n",
        "\n",
        "# model use for inference\n",
        "model_id=\"mychen76/mistral7b_ocr_to_json_v1\"\n",
        "model = AutoModelForCausalLM.from_pretrained(\n",
        "    model_id,\n",
        "    trust_remote_code=True,\n",
        "    torch_dtype=torch.float16,\n",
        "    quantization_config=bnb_config,\n",
        "    device_map=device_map)\n",
        "# tokenizer\n",
        "tokenizer = AutoTokenizer.from_pretrained(model_id, trust_remote_code=True)"
      ],
      "metadata": {
        "id": "--IFo2irUBls",
        "outputId": "9728bdc1-113d-487a-a942-df08d660600d",
        "colab": {
          "base_uri": "https://localhost:8080/",
          "height": 49,
          "referenced_widgets": [
            "577e7eb092de4c2598a898c4f8f8b9e2",
            "5f8bbff1376e4628894c09c836343dea",
            "36ba2124ceca46f9834c3106fa7cc819",
            "7ea631e128bb4ebcb06d39e7cc7fa9d4",
            "d10ac3f61cb64929b1513db9e3cae897",
            "c5cec09323aa49a88369a895e14b20bb",
            "7078d58aaff2435c913e8dbcfef6acfd",
            "e7944c69e5814d4a9dffe9f84f2c87c1",
            "d481e83b0ff548859721d407dd5ec765",
            "6ad83504ea2a4bdebf99597c5914e2b3",
            "c51c15f6b4e448e6bc8004cd848ecc84"
          ]
        }
      },
      "execution_count": 6,
      "outputs": [
        {
          "output_type": "display_data",
          "data": {
            "text/plain": [
              "Loading checkpoint shards:   0%|          | 0/2 [00:00<?, ?it/s]"
            ],
            "application/vnd.jupyter.widget-view+json": {
              "version_major": 2,
              "version_minor": 0,
              "model_id": "577e7eb092de4c2598a898c4f8f8b9e2"
            }
          },
          "metadata": {}
        }
      ]
    },
    {
      "cell_type": "code",
      "source": [
        "!python -m pip install paddlepaddle-gpu -i https://pypi.tuna.tsinghua.edu.cn/simple\n",
        "!pip install \"paddleocr>=2.0.1\"\n",
        "!pip install pillow numpy"
      ],
      "metadata": {
        "id": "JKCeukJMM6gm",
        "outputId": "9c3af1bd-7d21-485a-d57c-deaad170184b",
        "colab": {
          "base_uri": "https://localhost:8080/"
        }
      },
      "execution_count": 7,
      "outputs": [
        {
          "output_type": "stream",
          "name": "stdout",
          "text": [
            "Looking in indexes: https://pypi.tuna.tsinghua.edu.cn/simple\n",
            "Collecting paddlepaddle-gpu\n",
            "  Downloading https://pypi.tuna.tsinghua.edu.cn/packages/fc/d6/5159c8d4389d9b1c3640588133b973a5d8d9287050bbb3cf257b29d5896c/paddlepaddle_gpu-2.6.1-cp310-cp310-manylinux1_x86_64.whl (758.9 MB)\n",
            "\u001b[2K     \u001b[90m━━━━━━━━━━━━━━━━━━━━━━━━━━━━━━━━━━━━━━━━\u001b[0m \u001b[32m758.9/758.9 MB\u001b[0m \u001b[31m?\u001b[0m eta \u001b[36m0:00:00\u001b[0m\n",
            "\u001b[?25hCollecting httpx (from paddlepaddle-gpu)\n",
            "  Downloading https://pypi.tuna.tsinghua.edu.cn/packages/41/7b/ddacf6dcebb42466abd03f368782142baa82e08fc0c1f8eaa05b4bae87d5/httpx-0.27.0-py3-none-any.whl (75 kB)\n",
            "\u001b[2K     \u001b[90m━━━━━━━━━━━━━━━━━━━━━━━━━━━━━━━━━━━━━━━━\u001b[0m \u001b[32m75.6/75.6 kB\u001b[0m \u001b[31m12.0 MB/s\u001b[0m eta \u001b[36m0:00:00\u001b[0m\n",
            "\u001b[?25hRequirement already satisfied: numpy>=1.13 in /usr/local/lib/python3.10/dist-packages (from paddlepaddle-gpu) (1.25.2)\n",
            "Requirement already satisfied: Pillow in /usr/local/lib/python3.10/dist-packages (from paddlepaddle-gpu) (9.4.0)\n",
            "Requirement already satisfied: decorator in /usr/local/lib/python3.10/dist-packages (from paddlepaddle-gpu) (4.4.2)\n",
            "Collecting astor (from paddlepaddle-gpu)\n",
            "  Downloading https://pypi.tuna.tsinghua.edu.cn/packages/c3/88/97eef84f48fa04fbd6750e62dcceafba6c63c81b7ac1420856c8dcc0a3f9/astor-0.8.1-py2.py3-none-any.whl (27 kB)\n",
            "Requirement already satisfied: opt-einsum==3.3.0 in /usr/local/lib/python3.10/dist-packages (from paddlepaddle-gpu) (3.3.0)\n",
            "Requirement already satisfied: protobuf>=3.20.2 in /usr/local/lib/python3.10/dist-packages (from paddlepaddle-gpu) (3.20.3)\n",
            "Requirement already satisfied: anyio in /usr/local/lib/python3.10/dist-packages (from httpx->paddlepaddle-gpu) (3.7.1)\n",
            "Requirement already satisfied: certifi in /usr/local/lib/python3.10/dist-packages (from httpx->paddlepaddle-gpu) (2024.7.4)\n",
            "Collecting httpcore==1.* (from httpx->paddlepaddle-gpu)\n",
            "  Downloading https://pypi.tuna.tsinghua.edu.cn/packages/78/d4/e5d7e4f2174f8a4d63c8897d79eb8fe2503f7ecc03282fee1fa2719c2704/httpcore-1.0.5-py3-none-any.whl (77 kB)\n",
            "\u001b[2K     \u001b[90m━━━━━━━━━━━━━━━━━━━━━━━━━━━━━━━━━━━━━━━━\u001b[0m \u001b[32m77.9/77.9 kB\u001b[0m \u001b[31m10.5 MB/s\u001b[0m eta \u001b[36m0:00:00\u001b[0m\n",
            "\u001b[?25hRequirement already satisfied: idna in /usr/local/lib/python3.10/dist-packages (from httpx->paddlepaddle-gpu) (3.7)\n",
            "Requirement already satisfied: sniffio in /usr/local/lib/python3.10/dist-packages (from httpx->paddlepaddle-gpu) (1.3.1)\n",
            "Collecting h11<0.15,>=0.13 (from httpcore==1.*->httpx->paddlepaddle-gpu)\n",
            "  Downloading https://pypi.tuna.tsinghua.edu.cn/packages/95/04/ff642e65ad6b90db43e668d70ffb6736436c7ce41fcc549f4e9472234127/h11-0.14.0-py3-none-any.whl (58 kB)\n",
            "\u001b[2K     \u001b[90m━━━━━━━━━━━━━━━━━━━━━━━━━━━━━━━━━━━━━━━━\u001b[0m \u001b[32m58.3/58.3 kB\u001b[0m \u001b[31m8.7 MB/s\u001b[0m eta \u001b[36m0:00:00\u001b[0m\n",
            "\u001b[?25hRequirement already satisfied: exceptiongroup in /usr/local/lib/python3.10/dist-packages (from anyio->httpx->paddlepaddle-gpu) (1.2.1)\n",
            "Installing collected packages: h11, astor, httpcore, httpx, paddlepaddle-gpu\n",
            "Successfully installed astor-0.8.1 h11-0.14.0 httpcore-1.0.5 httpx-0.27.0 paddlepaddle-gpu-2.6.1\n",
            "Collecting paddleocr>=2.0.1\n",
            "  Downloading paddleocr-2.8.0-py3-none-any.whl (407 kB)\n",
            "\u001b[2K     \u001b[90m━━━━━━━━━━━━━━━━━━━━━━━━━━━━━━━━━━━━━━━━\u001b[0m \u001b[32m407.3/407.3 kB\u001b[0m \u001b[31m6.3 MB/s\u001b[0m eta \u001b[36m0:00:00\u001b[0m\n",
            "\u001b[?25hRequirement already satisfied: shapely in /usr/local/lib/python3.10/dist-packages (from paddleocr>=2.0.1) (2.0.4)\n",
            "Requirement already satisfied: scikit-image in /usr/local/lib/python3.10/dist-packages (from paddleocr>=2.0.1) (0.19.3)\n",
            "Requirement already satisfied: imgaug in /usr/local/lib/python3.10/dist-packages (from paddleocr>=2.0.1) (0.4.0)\n",
            "Collecting pyclipper (from paddleocr>=2.0.1)\n",
            "  Downloading pyclipper-1.3.0.post5-cp310-cp310-manylinux_2_12_x86_64.manylinux2010_x86_64.whl (908 kB)\n",
            "\u001b[2K     \u001b[90m━━━━━━━━━━━━━━━━━━━━━━━━━━━━━━━━━━━━━━━━\u001b[0m \u001b[32m908.3/908.3 kB\u001b[0m \u001b[31m11.6 MB/s\u001b[0m eta \u001b[36m0:00:00\u001b[0m\n",
            "\u001b[?25hCollecting lmdb (from paddleocr>=2.0.1)\n",
            "  Downloading lmdb-1.5.1-cp310-cp310-manylinux_2_17_x86_64.manylinux2014_x86_64.whl (294 kB)\n",
            "\u001b[2K     \u001b[90m━━━━━━━━━━━━━━━━━━━━━━━━━━━━━━━━━━━━━━━━\u001b[0m \u001b[32m294.9/294.9 kB\u001b[0m \u001b[31m12.8 MB/s\u001b[0m eta \u001b[36m0:00:00\u001b[0m\n",
            "\u001b[?25hRequirement already satisfied: tqdm in /usr/local/lib/python3.10/dist-packages (from paddleocr>=2.0.1) (4.66.4)\n",
            "Requirement already satisfied: numpy<2.0 in /usr/local/lib/python3.10/dist-packages (from paddleocr>=2.0.1) (1.25.2)\n",
            "Collecting rapidfuzz (from paddleocr>=2.0.1)\n",
            "  Downloading rapidfuzz-3.9.4-cp310-cp310-manylinux_2_17_x86_64.manylinux2014_x86_64.whl (3.4 MB)\n",
            "\u001b[2K     \u001b[90m━━━━━━━━━━━━━━━━━━━━━━━━━━━━━━━━━━━━━━━━\u001b[0m \u001b[32m3.4/3.4 MB\u001b[0m \u001b[31m24.3 MB/s\u001b[0m eta \u001b[36m0:00:00\u001b[0m\n",
            "\u001b[?25hRequirement already satisfied: opencv-python in /usr/local/lib/python3.10/dist-packages (from paddleocr>=2.0.1) (4.8.0.76)\n",
            "Requirement already satisfied: opencv-contrib-python in /usr/local/lib/python3.10/dist-packages (from paddleocr>=2.0.1) (4.8.0.76)\n",
            "Requirement already satisfied: cython in /usr/local/lib/python3.10/dist-packages (from paddleocr>=2.0.1) (3.0.10)\n",
            "Requirement already satisfied: Pillow in /usr/local/lib/python3.10/dist-packages (from paddleocr>=2.0.1) (9.4.0)\n",
            "Requirement already satisfied: pyyaml in /usr/local/lib/python3.10/dist-packages (from paddleocr>=2.0.1) (6.0.1)\n",
            "Collecting python-docx (from paddleocr>=2.0.1)\n",
            "  Downloading python_docx-1.1.2-py3-none-any.whl (244 kB)\n",
            "\u001b[2K     \u001b[90m━━━━━━━━━━━━━━━━━━━━━━━━━━━━━━━━━━━━━━━━\u001b[0m \u001b[32m244.3/244.3 kB\u001b[0m \u001b[31m27.6 MB/s\u001b[0m eta \u001b[36m0:00:00\u001b[0m\n",
            "\u001b[?25hRequirement already satisfied: beautifulsoup4 in /usr/local/lib/python3.10/dist-packages (from paddleocr>=2.0.1) (4.12.3)\n",
            "Requirement already satisfied: fonttools>=4.24.0 in /usr/local/lib/python3.10/dist-packages (from paddleocr>=2.0.1) (4.53.1)\n",
            "Collecting fire>=0.3.0 (from paddleocr>=2.0.1)\n",
            "  Downloading fire-0.6.0.tar.gz (88 kB)\n",
            "\u001b[2K     \u001b[90m━━━━━━━━━━━━━━━━━━━━━━━━━━━━━━━━━━━━━━━━\u001b[0m \u001b[32m88.4/88.4 kB\u001b[0m \u001b[31m14.2 MB/s\u001b[0m eta \u001b[36m0:00:00\u001b[0m\n",
            "\u001b[?25h  Preparing metadata (setup.py) ... \u001b[?25l\u001b[?25hdone\n",
            "Requirement already satisfied: six in /usr/local/lib/python3.10/dist-packages (from fire>=0.3.0->paddleocr>=2.0.1) (1.16.0)\n",
            "Requirement already satisfied: termcolor in /usr/local/lib/python3.10/dist-packages (from fire>=0.3.0->paddleocr>=2.0.1) (2.4.0)\n",
            "Requirement already satisfied: soupsieve>1.2 in /usr/local/lib/python3.10/dist-packages (from beautifulsoup4->paddleocr>=2.0.1) (2.5)\n",
            "Requirement already satisfied: scipy in /usr/local/lib/python3.10/dist-packages (from imgaug->paddleocr>=2.0.1) (1.11.4)\n",
            "Requirement already satisfied: matplotlib in /usr/local/lib/python3.10/dist-packages (from imgaug->paddleocr>=2.0.1) (3.7.1)\n",
            "Requirement already satisfied: imageio in /usr/local/lib/python3.10/dist-packages (from imgaug->paddleocr>=2.0.1) (2.31.6)\n",
            "Requirement already satisfied: networkx>=2.2 in /usr/local/lib/python3.10/dist-packages (from scikit-image->paddleocr>=2.0.1) (3.3)\n",
            "Requirement already satisfied: tifffile>=2019.7.26 in /usr/local/lib/python3.10/dist-packages (from scikit-image->paddleocr>=2.0.1) (2024.7.2)\n",
            "Requirement already satisfied: PyWavelets>=1.1.1 in /usr/local/lib/python3.10/dist-packages (from scikit-image->paddleocr>=2.0.1) (1.6.0)\n",
            "Requirement already satisfied: packaging>=20.0 in /usr/local/lib/python3.10/dist-packages (from scikit-image->paddleocr>=2.0.1) (24.1)\n",
            "Requirement already satisfied: lxml>=3.1.0 in /usr/local/lib/python3.10/dist-packages (from python-docx->paddleocr>=2.0.1) (4.9.4)\n",
            "Requirement already satisfied: typing-extensions>=4.9.0 in /usr/local/lib/python3.10/dist-packages (from python-docx->paddleocr>=2.0.1) (4.12.2)\n",
            "Requirement already satisfied: contourpy>=1.0.1 in /usr/local/lib/python3.10/dist-packages (from matplotlib->imgaug->paddleocr>=2.0.1) (1.2.1)\n",
            "Requirement already satisfied: cycler>=0.10 in /usr/local/lib/python3.10/dist-packages (from matplotlib->imgaug->paddleocr>=2.0.1) (0.12.1)\n",
            "Requirement already satisfied: kiwisolver>=1.0.1 in /usr/local/lib/python3.10/dist-packages (from matplotlib->imgaug->paddleocr>=2.0.1) (1.4.5)\n",
            "Requirement already satisfied: pyparsing>=2.3.1 in /usr/local/lib/python3.10/dist-packages (from matplotlib->imgaug->paddleocr>=2.0.1) (3.1.2)\n",
            "Requirement already satisfied: python-dateutil>=2.7 in /usr/local/lib/python3.10/dist-packages (from matplotlib->imgaug->paddleocr>=2.0.1) (2.8.2)\n",
            "Building wheels for collected packages: fire\n",
            "  Building wheel for fire (setup.py) ... \u001b[?25l\u001b[?25hdone\n",
            "  Created wheel for fire: filename=fire-0.6.0-py2.py3-none-any.whl size=117029 sha256=4854167a7086f22dc967fe1f88990f03bb988f41b91478e62bb7c6e177625aaa\n",
            "  Stored in directory: /root/.cache/pip/wheels/d6/6d/5d/5b73fa0f46d01a793713f8859201361e9e581ced8c75e5c6a3\n",
            "Successfully built fire\n",
            "Installing collected packages: pyclipper, lmdb, rapidfuzz, python-docx, fire, paddleocr\n",
            "Successfully installed fire-0.6.0 lmdb-1.5.1 paddleocr-2.8.0 pyclipper-1.3.0.post5 python-docx-1.1.2 rapidfuzz-3.9.4\n",
            "Requirement already satisfied: pillow in /usr/local/lib/python3.10/dist-packages (9.4.0)\n",
            "Requirement already satisfied: numpy in /usr/local/lib/python3.10/dist-packages (1.25.2)\n"
          ]
        }
      ]
    },
    {
      "cell_type": "code",
      "source": [
        "from paddleocr import PaddleOCR"
      ],
      "metadata": {
        "id": "nAvD0z0QZxnn"
      },
      "execution_count": 8,
      "outputs": []
    },
    {
      "cell_type": "code",
      "source": [
        "# Initialize PaddleOCR\n",
        "paddleocr = PaddleOCR(lang=\"en\", ocr_version=\"PP-OCRv4\", use_gpu=True, show_log=False)"
      ],
      "metadata": {
        "id": "xx5bOOcYKhTu",
        "outputId": "6730a1e0-825f-403e-e57a-1dc0429fdfb7",
        "colab": {
          "base_uri": "https://localhost:8080/"
        }
      },
      "execution_count": 9,
      "outputs": [
        {
          "output_type": "stream",
          "name": "stdout",
          "text": [
            "download https://paddleocr.bj.bcebos.com/PP-OCRv3/english/en_PP-OCRv3_det_infer.tar to /root/.paddleocr/whl/det/en/en_PP-OCRv3_det_infer/en_PP-OCRv3_det_infer.tar\n"
          ]
        },
        {
          "output_type": "stream",
          "name": "stderr",
          "text": [
            "100%|██████████| 4.00M/4.00M [00:08<00:00, 481kiB/s] \n"
          ]
        },
        {
          "output_type": "stream",
          "name": "stdout",
          "text": [
            "download https://paddleocr.bj.bcebos.com/PP-OCRv4/english/en_PP-OCRv4_rec_infer.tar to /root/.paddleocr/whl/rec/en/en_PP-OCRv4_rec_infer/en_PP-OCRv4_rec_infer.tar\n"
          ]
        },
        {
          "output_type": "stream",
          "name": "stderr",
          "text": [
            "100%|██████████| 10.2M/10.2M [00:10<00:00, 972kiB/s] \n"
          ]
        },
        {
          "output_type": "stream",
          "name": "stdout",
          "text": [
            "download https://paddleocr.bj.bcebos.com/dygraph_v2.0/ch/ch_ppocr_mobile_v2.0_cls_infer.tar to /root/.paddleocr/whl/cls/ch_ppocr_mobile_v2.0_cls_infer/ch_ppocr_mobile_v2.0_cls_infer.tar\n"
          ]
        },
        {
          "output_type": "stream",
          "name": "stderr",
          "text": [
            "100%|██████████| 2.19M/2.19M [00:12<00:00, 175kiB/s]\n"
          ]
        }
      ]
    },
    {
      "cell_type": "code",
      "source": [
        "def paddle_scan(paddleocr, img_path_or_nparray):\n",
        "    result = paddleocr.ocr(img_path_or_nparray, cls=True)\n",
        "    result = result[0]  # Assuming only one image is processed\n",
        "    boxes = [line[0] for line in result]       # Bounding boxes\n",
        "    txts = [line[1][0] for line in result]     # Raw text\n",
        "    scores = [line[1][1] for line in result]   # Scores\n",
        "    return txts, result"
      ],
      "metadata": {
        "id": "ukupM8pzJmFn"
      },
      "execution_count": 10,
      "outputs": []
    },
    {
      "cell_type": "code",
      "source": [
        "# Function to perform OCR and extract JSON\n",
        "def process_invoice(image_path):\n",
        "    try:\n",
        "        # Perform OCR\n",
        "        receipt_texts, receipt_boxes = paddle_scan(paddleocr, image_path)\n",
        "        print(receipt_texts)\n",
        "        print(receipt_boxes)\n",
        "        # Prepare prompt for Hugging Face model\n",
        "        prompt = f\"\"\"### Instruction:\n",
        "        You are POS receipt data expert, parse, detect, recognize and convert following receipt OCR image result into structure receipt data object.\n",
        "        Don't make up value not in the Input. Output must be a well-formed JSON object.```json\n",
        "\n",
        "\n",
        "        ### Input:\n",
        "        {receipt_boxes}\n",
        "\n",
        "        ### Output:\n",
        "        \"\"\"\n",
        "\n",
        "        # Generate JSON output using Hugging Face model\n",
        "        with torch.inference_mode():\n",
        "            inputs = tokenizer(prompt, return_tensors=\"pt\", truncation=True).to(device)\n",
        "            outputs = model.generate(**inputs, max_new_tokens=512)\n",
        "            result_text = tokenizer.batch_decode(outputs)[0]\n",
        "            print(result_text)\n",
        "\n",
        "        return {\n",
        "            # \"ocr_text\": receipt_texts,\n",
        "            \"json_output\": result_text\n",
        "        }\n",
        "\n",
        "    except Exception as e:\n",
        "        return {\n",
        "            \"error\": str(e)\n",
        "        }\n"
      ],
      "metadata": {
        "id": "Ore4fnmbJovY"
      },
      "execution_count": 11,
      "outputs": []
    },
    {
      "cell_type": "code",
      "source": [
        "\n",
        "from google.colab import drive\n",
        "drive.mount('/content/drive')\n"
      ],
      "metadata": {
        "id": "WU9FXuTCKCRr",
        "outputId": "25bf5ae4-ff78-4387-e523-de5bb7bd5e19",
        "colab": {
          "base_uri": "https://localhost:8080/"
        }
      },
      "execution_count": 12,
      "outputs": [
        {
          "output_type": "stream",
          "name": "stdout",
          "text": [
            "Mounted at /content/drive\n"
          ]
        }
      ]
    },
    {
      "cell_type": "code",
      "source": [],
      "metadata": {
        "id": "MNGxz8WXoo_g"
      },
      "execution_count": 16,
      "outputs": []
    },
    {
      "cell_type": "code",
      "source": [
        "# Example usage\n",
        "import urllib.request\n",
        "import numpy as np\n",
        "from PIL import Image\n",
        "\n",
        "if __name__ == \"__main__\":\n",
        "    image_path = '/content/drive/MyDrive/ocr_prac.jpeg'\n",
        "    image_url='https://groups.google.com/group/jzebra-users/attach/d16dbba8a612edfa/Bill%20Image_Receipt.png?part=0.1'\n",
        "    local_image_id='bill_image_receipt.png'\n",
        "    urllib.request.urlretrieve(image_url,local_image_id)\n",
        "    receipt_image = Image.open(\"/content/drive/MyDrive/img_2.png\")\n",
        "    receipt_image_array = np.array(receipt_image.convert('RGB'))\n",
        "    display(receipt_image.resize((300,400)))  # Display the image\n",
        "    result = process_invoice(receipt_image_array)\n",
        "    prompt_str = str(result).replace(\"\\n\", \"\")\n",
        "    output_index = prompt_str.find(\"### Output:\")\n",
        "\n",
        "    # Extract everything after \"### Output:\"\n",
        "    if output_index != -1:\n",
        "        output_content = prompt_str[output_index + len(\"### Output:\"):]\n",
        "        output_content=output_content.replace(\"\\n\", \"\")\n",
        "        print(output_content)\n",
        "    else:\n",
        "        print(\"### Output: not found in the prompt.\")\n",
        "    # ocr=extract_text_before_output(result)\n",
        "    print(type(result))"
      ],
      "metadata": {
        "id": "rsRYKUAUJv8R",
        "outputId": "ab466fa2-ba75-4d78-d076-6567d2b25d30",
        "colab": {
          "base_uri": "https://localhost:8080/",
          "height": 801
        }
      },
      "execution_count": 31,
      "outputs": [
        {
          "output_type": "display_data",
          "data": {
            "text/plain": [
              "<PIL.Image.Image image mode=RGB size=300x400>"
            ],
            "image/png": "[encoded data removed]"
          },
          "metadata": {}
        },
        {
          "output_type": "stream",
          "name": "stdout",
          "text": [
            "[2024/07/15 14:32:41] ppocr WARNING: Since the angle classifier is not initialized, it will not be used during the forward process\n"
          ]
        },
        {
          "output_type": "stream",
          "name": "stderr",
          "text": [
            "Setting `pad_token_id` to `eos_token_id`:2 for open-end generation.\n"
          ]
        },
        {
          "output_type": "stream",
          "name": "stdout",
          "text": [
            "['TAX INVOICE', 'Delicious Food Works', 'Wonders Pizza', '*PAID*', 'Shop on the ground Floor', '12/2, Vicky Complex, Sector 37', 'Faridabad, Haryana 121003', 'Phone No. 0129 4874330', 'GSTIN 06AYLPK6089N1ZL', 'Invoice No.:68', 'Customer Mob No. :', 'Order No. : 1', 'Date : 23-7-2018', 'Time 00:28', 'SNITEM', 'QTY AMOUNT', '1', 'Wonders Burger Extra', '1', '10', '2', 'Wonders Pasta Extra', '3', '60', '3', 'Wonders Rose Sauce P', '1', '99', '4', 'Wonders Special Pzz', '3', '507', '5', 'Wonders Special Burg', '1', '65', '6', 'Burst Delight M', '1', '75', '7', 'Burst DelightR', '3', '135', 'HSN Code', '9963', 'Total Qty', '13', 'Sub Total', '951.00', 'CGST @2.5%', '23.78', 'SGST @2.5%', '23.78', 'Discount', '50', 'Total Amt', '899', 'Total Cash', 'E', '899', 'Thank You. Please VisitAgain.']\n",
            "[[[[95.0, 5.0], [157.0, 5.0], [157.0, 16.0], [95.0, 16.0]], ('TAX INVOICE', 0.9768136739730835)], [[[77.0, 21.0], [176.0, 21.0], [176.0, 34.0], [77.0, 34.0]], ('Delicious Food Works', 0.996735692024231)], [[[92.0, 35.0], [161.0, 35.0], [161.0, 46.0], [92.0, 46.0]], ('Wonders Pizza', 0.9974977970123291)], [[[110.0, 46.0], [144.0, 46.0], [144.0, 59.0], [110.0, 59.0]], ('*PAID*', 0.9734036922454834)], [[[69.0, 62.0], [183.0, 62.0], [183.0, 75.0], [69.0, 75.0]], ('Shop on the ground Floor', 0.970482349395752)], [[[56.0, 77.0], [198.0, 77.0], [198.0, 90.0], [56.0, 90.0]], ('12/2, Vicky Complex, Sector 37', 0.9966829419136047)], [[[62.0, 90.0], [190.0, 90.0], [190.0, 102.0], [62.0, 102.0]], ('Faridabad, Haryana 121003', 0.9858924746513367)], [[[69.0, 102.0], [185.0, 102.0], [185.0, 115.0], [69.0, 115.0]], ('Phone No. 0129 4874330', 0.955946683883667)], [[[66.0, 115.0], [185.0, 115.0], [185.0, 128.0], [66.0, 128.0]], ('GSTIN 06AYLPK6089N1ZL', 0.9818078875541687)], [[[89.0, 137.0], [164.0, 134.0], [164.0, 148.0], [89.0, 150.0]], ('Invoice No.:68', 0.9281944036483765)], [[[81.0, 149.0], [173.0, 149.0], [173.0, 162.0], [81.0, 162.0]], ('Customer Mob No. :', 0.9838454127311707)], [[[96.0, 162.0], [157.0, 162.0], [157.0, 173.0], [96.0, 173.0]], ('Order No. : 1', 0.9325435161590576)], [[[58.0, 174.0], [144.0, 174.0], [144.0, 187.0], [58.0, 187.0]], ('Date : 23-7-2018', 0.9499298334121704)], [[[140.0, 175.0], [193.0, 175.0], [193.0, 186.0], [140.0, 186.0]], ('Time 00:28', 0.9302375912666321)], [[[12.0, 189.0], [65.0, 191.0], [64.0, 205.0], [11.0, 203.0]], ('SNITEM', 0.969726026058197)], [[[166.0, 189.0], [237.0, 191.0], [237.0, 205.0], [165.0, 203.0]], ('QTY AMOUNT', 0.9963184595108032)], [[[11.0, 227.0], [20.0, 227.0], [20.0, 237.0], [11.0, 237.0]], ('1', 0.9989866614341736)], [[[37.0, 225.0], [138.0, 225.0], [138.0, 238.0], [37.0, 238.0]], ('Wonders Burger Extra', 0.9888318777084351)], [[[179.0, 224.0], [191.0, 224.0], [191.0, 239.0], [179.0, 239.0]], ('1', 0.9990276098251343)], [[[222.0, 225.0], [238.0, 225.0], [238.0, 238.0], [222.0, 238.0]], ('10', 0.9975630044937134)], [[[11.0, 243.0], [20.0, 243.0], [20.0, 254.0], [11.0, 254.0]], ('2', 0.9987356066703796)], [[[37.0, 242.0], [134.0, 242.0], [134.0, 254.0], [37.0, 254.0]], ('Wonders Pasta Extra', 0.9951571226119995)], [[[179.0, 241.0], [191.0, 241.0], [191.0, 255.0], [179.0, 255.0]], ('3', 0.9989407658576965)], [[[222.0, 242.0], [238.0, 242.0], [238.0, 255.0], [222.0, 255.0]], ('60', 0.9953278303146362)], [[[11.0, 260.0], [21.0, 260.0], [21.0, 271.0], [11.0, 271.0]], ('3', 0.9995291233062744)], [[[37.0, 259.0], [146.0, 259.0], [146.0, 272.0], [37.0, 272.0]], ('Wonders Rose Sauce P', 0.9626820683479309)], [[[180.0, 259.0], [190.0, 259.0], [190.0, 270.0], [180.0, 270.0]], ('1', 0.9984619617462158)], [[[222.0, 258.0], [238.0, 258.0], [238.0, 272.0], [222.0, 272.0]], ('99', 0.9927126169204712)], [[[12.0, 278.0], [21.0, 278.0], [21.0, 288.0], [12.0, 288.0]], ('4', 0.9970422387123108)], [[[37.0, 277.0], [136.0, 277.0], [136.0, 289.0], [37.0, 289.0]], ('Wonders Special Pzz', 0.9922959208488464)], [[[179.0, 276.0], [191.0, 276.0], [191.0, 289.0], [179.0, 289.0]], ('3', 0.998627781867981)], [[[217.0, 277.0], [238.0, 277.0], [238.0, 290.0], [217.0, 290.0]], ('507', 0.9984176754951477)], [[[12.0, 294.0], [21.0, 294.0], [21.0, 305.0], [12.0, 305.0]], ('5', 0.9275785088539124)], [[[36.0, 292.0], [140.0, 293.0], [140.0, 307.0], [36.0, 306.0]], ('Wonders Special Burg', 0.985912024974823)], [[[181.0, 294.0], [190.0, 294.0], [190.0, 305.0], [181.0, 305.0]], ('1', 0.9975969195365906)], [[[222.0, 293.0], [238.0, 293.0], [238.0, 307.0], [222.0, 307.0]], ('65', 0.9988934397697449)], [[[12.0, 311.0], [21.0, 311.0], [21.0, 322.0], [12.0, 322.0]], ('6', 0.9983866214752197)], [[[36.0, 309.0], [109.0, 309.0], [109.0, 323.0], [36.0, 323.0]], ('Burst Delight M', 0.9555888772010803)], [[[179.0, 310.0], [191.0, 310.0], [191.0, 324.0], [179.0, 324.0]], ('1', 0.999675989151001)], [[[222.0, 310.0], [238.0, 310.0], [238.0, 324.0], [222.0, 324.0]], ('75', 0.9882389307022095)], [[[11.0, 328.0], [21.0, 328.0], [21.0, 337.0], [11.0, 337.0]], ('7', 0.9985264539718628)], [[[37.0, 325.0], [109.0, 328.0], [109.0, 341.0], [36.0, 339.0]], ('Burst DelightR', 0.9763186573982239)], [[[179.0, 326.0], [191.0, 326.0], [191.0, 340.0], [179.0, 340.0]], ('3', 0.9992392063140869)], [[[217.0, 327.0], [238.0, 327.0], [238.0, 341.0], [217.0, 341.0]], ('135', 0.9995835423469543)], [[[12.0, 353.0], [70.0, 353.0], [70.0, 364.0], [12.0, 364.0]], ('HSN Code', 0.9527115821838379)], [[[67.0, 354.0], [95.0, 354.0], [95.0, 365.0], [67.0, 365.0]], ('9963', 0.9959735870361328)], [[[11.0, 365.0], [56.0, 365.0], [56.0, 379.0], [11.0, 379.0]], ('Total Qty', 0.9982270002365112)], [[[222.0, 365.0], [237.0, 365.0], [237.0, 379.0], [222.0, 379.0]], ('13', 0.9995445609092712)], [[[11.0, 380.0], [59.0, 382.0], [58.0, 397.0], [10.0, 395.0]], ('Sub Total', 0.9303280711174011)], [[[204.0, 383.0], [237.0, 383.0], [237.0, 397.0], [204.0, 397.0]], ('951.00', 0.999722957611084)], [[[12.0, 399.0], [76.0, 399.0], [76.0, 412.0], [12.0, 412.0]], ('CGST @2.5%', 0.9213746190071106)], [[[208.0, 400.0], [238.0, 400.0], [238.0, 413.0], [208.0, 413.0]], ('23.78', 0.9962283372879028)], [[[12.0, 412.0], [76.0, 412.0], [76.0, 426.0], [12.0, 426.0]], ('SGST @2.5%', 0.9853960275650024)], [[[209.0, 413.0], [237.0, 413.0], [237.0, 426.0], [209.0, 426.0]], ('23.78', 0.9990736246109009)], [[[11.0, 424.0], [57.0, 426.0], [56.0, 440.0], [10.0, 437.0]], ('Discount', 0.994813084602356)], [[[223.0, 426.0], [237.0, 426.0], [237.0, 439.0], [223.0, 439.0]], ('50', 0.9985531568527222)], [[[11.0, 450.0], [59.0, 450.0], [59.0, 464.0], [11.0, 464.0]], ('Total Amt', 0.9992536902427673)], [[[217.0, 451.0], [238.0, 451.0], [238.0, 465.0], [217.0, 465.0]], ('899', 0.9840940833091736)], [[[12.0, 465.0], [63.0, 465.0], [63.0, 476.0], [12.0, 476.0]], ('Total Cash', 0.9996112585067749)], [[[155.0, 463.0], [164.0, 463.0], [164.0, 476.0], [155.0, 476.0]], ('E', 0.8510940670967102)], [[[217.0, 464.0], [238.0, 464.0], [238.0, 478.0], [217.0, 478.0]], ('899', 0.998619556427002)], [[[58.0, 480.0], [196.0, 480.0], [196.0, 493.0], [58.0, 493.0]], ('Thank You. Please VisitAgain.', 0.9964420199394226)]]\n",
            "<s> ### Instruction:\n",
            "        You are POS receipt data expert, parse, detect, recognize and convert following receipt OCR image result into structure receipt data object.\n",
            "        Don't make up value not in the Input. Output must be a well-formed JSON object.```json\n",
            "\n",
            "\n",
            "        ### Input:\n",
            "        [[[[95.0, 5.0], [157.0, 5.0], [157.0, 16.0], [95.0, 16.0]], ('TAX INVOICE', 0.9768136739730835)], [[[77.0, 21.0], [176.0, 21.0], [176.0, 34.0], [77.0, 34.0]], ('Delicious Food Works', 0.996735692024231)], [[[92.0, 35.0], [161.0, 35.0], [161.0, 46.0], [92.0, 46.0]], ('Wonders Pizza', 0.9974977970123291)], [[[110.0, 46.0], [144.0, 46.0], [144.0, 59.0], [110.0, 59.0]], ('*PAID*', 0.9734036922454834)], [[[69.0, 62.0], [183.0, 62.0], [183.0, 75.0], [69.0, 75.0]], ('Shop on the ground Floor', 0.970482349395752)], [[[56.0, 77.0], [198.0, 77.0], [198.0, 90.0], [56.0, 90.0]], ('12/2, Vicky Complex, Sector 37', 0.9966829419136047)], [[[62.0, 90.0], [190.0, 90.0], [190.0, 102.0], [62.0, 102.0]], ('Faridabad, Haryana 121003', 0.9858924746513367)], [[[69.0, 102.0], [185.0, 102.0], [185.0, 115.0], [69.0, 115.0]], ('Phone No. 0129 4874330', 0.955946683883667)], [[[66.0, 115.0], [185.0, 115.0], [185.0, 128.0], [66.0, 128.0]], ('GSTIN 06AYLPK6089N1ZL', 0.9818078875541687)], [[[89.0, 137.0], [164.0, 134.0], [164.0, 148.0], [89.0, 150.0]], ('Invoice No.:68', 0.9281944036483765)], [[[81.0, 149.0], [173.0, 149.0], [173.0, 162.0], [81.0, 162.0]], ('Customer Mob No. :', 0.9838454127311707)], [[[96.0, 162.0], [157.0, 162.0], [157.0, 173.0], [96.0, 173.0]], ('Order No. : 1', 0.9325435161590576)], [[[58.0, 174.0], [144.0, 174.0], [144.0, 187.0], [58.0, 187.0]], ('Date : 23-7-2018', 0.9499298334121704)], [[[140.0, 175.0], [193.0, 175.0], [193.0, 186.0], [140.0, 186.0]], ('Time 00:28', 0.9302375912666321)], [[[12.0, 189.0], [65.0, 191.0], [64.0, 205.0], [11.0, 203.0]], ('SNITEM', 0.969726026058197)], [[[166.0, 189.0], [237.0, 191.0], [237.0, 205.0], [165.0, 203.0]], ('QTY AMOUNT', 0.9963184595108032)], [[[11.0, 227.0], [20.0, 227.0], [20.0, 237.0], [11.0, 237.0]], ('1', 0.9989866614341736)], [[[37.0, 225.0], [138.0, 225.0], [138.0, 238.0], [37.0, 238.0]], ('Wonders Burger Extra', 0.9888318777084351)], [[[179.0, 224.0], [191.0, 224.0], [191.0, 239.0], [179.0, 239.0]], ('1', 0.9990276098251343)], [[[222.0, 225.0], [238.0, 225.0], [238.0, 238.0], [222.0, 238.0]], ('10', 0.9975630044937134)], [[[11.0, 243.0], [20.0, 243.0], [20.0, 254.0], [11.0, 254.0]], ('2', 0.9987356066703796)], [[[37.0, 242.0], [134.0, 242.0], [134.0, 254.0], [37.0, 254.0]], ('Wonders Pasta Extra', 0.9951571226119995)], [[[179.0, 241.0], [191.0, 241.0], [191.0, 255.0], [179.0, 255.0]], ('3', 0.9989407658576965)], [[[222.0, 242.0], [238.0, 242.0], [238.0, 255.0], [222.0, 255.0]], ('60', 0.9953278303146362)], [[[11.0, 260.0], [21.0, 260.0], [21.0, 271.0], [11.0, 271.0]], ('3', 0.9995291233062744)], [[[37.0, 259.0], [146.0, 259.0], [146.0, 272.0], [37.0, 272.0]], ('Wonders Rose Sauce P', 0.9626820683479309)], [[[180.0, 259.0], [190.0, 259.0], [190.0, 270.0], [180.0, 270.0]], ('1', 0.9984619617462158)], [[[222.0, 258.0], [238.0, 258.0], [238.0, 272.0], [222.0, 272.0]], ('99', 0.9927126169204712)], [[[12.0, 278.0], [21.0, 278.0], [21.0, 288.0], [12.0, 288.0]], ('4', 0.9970422387123108)], [[[37.0, 277.0], [136.0, 277.0], [136.0, 289.0], [37.0, 289.0]], ('Wonders Special Pzz', 0.9922959208488464)], [[[179.0, 276.0], [191.0, 276.0], [191.0, 289.0], [179.0, 289.0]], ('3', 0.998627781867981)], [[[217.0, 277.0], [238.0, 277.0], [238.0, 290.0], [217.0, 290.0]], ('507', 0.9984176754951477)], [[[12.0, 294.0], [21.0, 294.0], [21.0, 305.0], [12.0, 305.0]], ('5', 0.9275785088539124)], [[[36.0, 292.0], [140.0, 293.0], [140.0, 307.0], [36.0, 306.0]], ('Wonders Special Burg', 0.985912024974823)], [[[181.0, 294.0], [190.0, 294.0], [190.0, 305.0], [181.0, 305.0]], ('1', 0.9975969195365906)], [[[222.0, 293.0], [238.0, 293.0], [238.0, 307.0], [222.0, 307.0]], ('65', 0.9988934397697449)], [[[12.0, 311.0], [21.0, 311.0], [21.0, 322.0], [12.0, 322.0]], ('6', 0.9983866214752197)], [[[36.0, 309.0], [109.0, 309.0], [109.0, 323.0], [36.0, 323.0]], ('Burst Delight M', 0.9555888772010803)], [[[179.0, 310.0], [191.0, 310.0], [191.0, 324.0], [179.0, 324.0]], ('1', 0.999675989151001)], [[[222.0, 310.0], [238.0, 310.0], [238.0, 324.0], [222.0, 324.0]], ('75', 0.9882389307022095)], [[[11.0, 328.0], [21.0, 328.0], [21.0, 337.0], [11.0, 337.0]], ('7', 0.9985264539718628)], [[[37.0, 325.0], [109.0, 328.0], [109.0, 341.0], [36.0, 339.0]], ('Burst DelightR', 0.9763186573982239)], [[[179.0, 326.0], [191.0, 326.0], [191.0, 340.0], [179.0, 340.0]], ('3', 0.9992392063140869)], [[[217.0, 327.0], [238.0, 327.0], [238.0, 341.0], [217.0, 341.0]], ('135', 0.9995835423469543)], [[[12.0, 353.0], [70.0, 353.0], [70.0, 364.0], [12.0, 364.0]], ('HSN Code', 0.9527115821838379)], [[[67.0, 354.0], [95.0, 354.0], [95.0, 365.0], [67.0, 365.0]], ('9963', 0.9959735870361328)], [[[11.0, 365.0], [56.0, 365.0], [56.0, 379.0], [11.0, 379.0]], ('Total Qty', 0.9982270002365112)], [[[222.0, 365.0], [237.0, 365.0], [237.0, 379.0], [222.0, 379.0]], ('13', 0.9995445609092712)], [[[11.0, 380.0], [59.0, 382.0], [58.0, 397.0], [10.0, 395.0]], ('Sub Total', 0.9303280711174011)], [[[204.0, 383.0], [237.0, 383.0], [237.0, 397.0], [204.0, 397.0]], ('951.00', 0.999722957611084)], [[[12.0, 399.0], [76.0, 399.0], [76.0, 412.0], [12.0, 412.0]], ('CGST @2.5%', 0.9213746190071106)], [[[208.0, 400.0], [238.0, 400.0], [238.0, 413.0], [208.0, 413.0]], ('23.78', 0.9962283372879028)], [[[12.0, 412.0], [76.0, 412.0], [76.0, 426.0], [12.0, 426.0]], ('SGST @2.5%', 0.9853960275650024)], [[[209.0, 413.0], [237.0, 413.0], [237.0, 426.0], [209.0, 426.0]], ('23.78', 0.9990736246109009)], [[[11.0, 424.0], [57.0, 426.0], [56.0, 440.0], [10.0, 437.0]], ('Discount', 0.994813084602356)], [[[223.0, 426.0], [237.0, 426.0], [237.0, 439.0], [223.0, 439.0]], ('50', 0.9985531568527222)], [[[11.0, 450.0], [59.0, 450.0], [59.0, 464.0], [11.0, 464.0]], ('Total Amt', 0.9992536902427673)], [[[217.0, 451.0], [238.0, 451.0], [238.0, 465.0], [217.0, 465.0]], ('899', 0.9840940833091736)], [[[12.0, 465.0], [63.0, 465.0], [63.0, 476.0], [12.0, 476.0]], ('Total Cash', 0.9996112585067749)], [[[155.0, 463.0], [164.0, 463.0], [164.0, 476.0], [155.0, 476.0]], ('E', 0.8510940670967102)], [[[217.0, 464.0], [238.0, 464.0], [238.0, 478.0], [217.0, 478.0]], ('899', 0.998619556427002)], [[[58.0, 480.0], [196.0, 480.0], [196.0, 493.0], [58.0, 493.0]], ('Thank You. Please VisitAgain.', 0.9964420199394226)]]\n",
            "\n",
            "        ### Output:\n",
            "         {\n",
            "            \"invoice_number\": \"TAX INVOICE\",\n",
            "            \"invoice_date\": \"23-7-2018\",\n",
            "            \"invoice_time\": \"00:28\",\n",
            "            \"customer_name\": \"Wonders Burger Extra\",\n",
            "            \"customer_address\": \"12.0, 20.0, 21.0, 22.0, 23.0, 24.0, 25.0, 26.0, 27.0, 28.0, 29.0, 30.0, 31.0, 32.0, 33.0, 34.0, 35.0, 36.0, 37.0, 38.0, 39.0, 40.0, 41.0, 42.0, 43.0, 44.0, 45.0, 46.0, 47.0, 48.0, 49.0, 50.0, 51.0, 52.0, 53.0, 54.0, 55.0, 56.0, 57.0, 58.0, 59.0, 60.0, 61.0, 62.0, 63.0, 64.0, 65.0, 66.0, 67.0, 68.0, 69.0, 70.0, 71.0, 72.0, 73.0, 74.0, 75.0, 76.0, 77.0, 78.0, 79.0, 80.0, 81.0, 82.0, 83.0, 84.0, 85.0, 86.0, 87.0, 88.0, 89.0, 90.0, 91.0, 92\n",
            "\\n         {\\n            \"invoice_number\": \"TAX INVOICE\",\\n            \"invoice_date\": \"23-7-2018\",\\n            \"invoice_time\": \"00:28\",\\n            \"customer_name\": \"Wonders Burger Extra\",\\n            \"customer_address\": \"12.0, 20.0, 21.0, 22.0, 23.0, 24.0, 25.0, 26.0, 27.0, 28.0, 29.0, 30.0, 31.0, 32.0, 33.0, 34.0, 35.0, 36.0, 37.0, 38.0, 39.0, 40.0, 41.0, 42.0, 43.0, 44.0, 45.0, 46.0, 47.0, 48.0, 49.0, 50.0, 51.0, 52.0, 53.0, 54.0, 55.0, 56.0, 57.0, 58.0, 59.0, 60.0, 61.0, 62.0, 63.0, 64.0, 65.0, 66.0, 67.0, 68.0, 69.0, 70.0, 71.0, 72.0, 73.0, 74.0, 75.0, 76.0, 77.0, 78.0, 79.0, 80.0, 81.0, 82.0, 83.0, 84.0, 85.0, 86.0, 87.0, 88.0, 89.0, 90.0, 91.0, 92'}\n",
            "<class 'dict'>\n"
          ]
        }
      ]
    },
    {
      "cell_type": "code",
      "source": [
        "!pip install pyngrok"
      ],
      "metadata": {
        "colab": {
          "base_uri": "https://localhost:8080/"
        },
        "id": "OIzRtHYvCy-W",
        "outputId": "53172317-31b4-4c0d-9a7f-56d1b73a01a4"
      },
      "execution_count": 20,
      "outputs": [
        {
          "output_type": "stream",
          "name": "stdout",
          "text": [
            "Collecting pyngrok\n",
            "  Downloading pyngrok-7.1.6-py3-none-any.whl (22 kB)\n",
            "Requirement already satisfied: PyYAML>=5.1 in /usr/local/lib/python3.10/dist-packages (from pyngrok) (6.0.1)\n",
            "Installing collected packages: pyngrok\n",
            "Successfully installed pyngrok-7.1.6\n"
          ]
        }
      ]
    },
    {
      "cell_type": "code",
      "source": [
        "from flask import Flask,jsonify,request\n",
        "from pyngrok import ngrok\n",
        "from werkzeug.utils import secure_filename"
      ],
      "metadata": {
        "id": "qe8yRfO2CeHp"
      },
      "execution_count": 21,
      "outputs": []
    },
    {
      "cell_type": "code",
      "source": [
        "port_no = 5000"
      ],
      "metadata": {
        "id": "J4Sz7_3IDCDz"
      },
      "execution_count": 22,
      "outputs": []
    },
    {
      "cell_type": "code",
      "source": [
        "import os\n",
        "app = Flask(__name__)\n",
        "ngrok.set_auth_token(\"2elGda95W53NMZfKTs5E5JqySJu_43ZrZJQN7xQbUf6aLM7Lj\")\n",
        "public_url =  ngrok.connect(port_no).public_url\n",
        "import numpy as np\n",
        "import cv2\n",
        "\n",
        "\n",
        "from google.colab import drive\n",
        "drive.mount('/content/drive')\n",
        "\n",
        "\n",
        "# Define the upload folder and ensure it exists\n",
        "UPLOAD_FOLDER = '/content/drive/MyDrive/uploads'\n",
        "if not os.path.exists(UPLOAD_FOLDER):\n",
        "    os.makedirs(UPLOAD_FOLDER)\n",
        "\n",
        "app.config['UPLOAD_FOLDER'] = UPLOAD_FOLDER\n",
        "\n",
        "\n",
        "@app.route(\"/\")\n",
        "def home():\n",
        "    return f\"Running Flask on Google Colab!\"\n",
        "\n",
        "print(f\"To acces the Gloable link please click {public_url}\")\n",
        "\n",
        "@app.route(\"/upload\", methods=[\"GET\"])\n",
        "def upload_file():\n",
        "    image_path = '/content/drive/MyDrive/ocr_prac.jpeg'\n",
        "    image_url='https://groups.google.com/group/jzebra-users/attach/d16dbba8a612edfa/Bill%20Image_Receipt.png?part=0.1'\n",
        "    local_image_id='bill_image_receipt.png'\n",
        "    urllib.request.urlretrieve(image_url,local_image_id)\n",
        "    receipt_image = Image.open(local_image_id)\n",
        "    receipt_image_array = np.array(receipt_image.convert('RGB'))\n",
        "    result = process_invoice(receipt_image_array)\n",
        "    print(result)\n",
        "    return jsonify(result)\n",
        "\n",
        "UPLOAD_FOLDER = '/content/uploads'\n",
        "os.makedirs(UPLOAD_FOLDER, exist_ok=True)\n",
        "app.config['UPLOAD_FOLDER'] = UPLOAD_FOLDER\n",
        "\n",
        "@app.route('/upload_ocr', methods=['POST'])\n",
        "def upload_and_ocr():\n",
        "    if 'file' not in request.files:\n",
        "        return jsonify({\"error\": \"No file part in the request\"}), 400\n",
        "    file = request.files['file']\n",
        "    if file.filename == '':\n",
        "        return jsonify({\"error\": \"No selected file\"}), 400\n",
        "    if file:\n",
        "        filename = secure_filename(file.filename)\n",
        "        file_path = os.path.join(app.config['UPLOAD_FOLDER'], filename)\n",
        "        file.save(file_path)\n",
        "\n",
        "        # Perform OCR on the uploaded file\n",
        "        receipt_image = Image.open(file_path)\n",
        "        receipt_image_array = np.array(receipt_image.convert('RGB'))\n",
        "        ocr_result = process_invoice(receipt_image_array)\n",
        "\n",
        "        #convert dict to string\n",
        "        prompt_str = str(ocr_result)\n",
        "        output_index = prompt_str.find(\"### Output:\")\n",
        "\n",
        "        # Extract everything after \"### Output:\"\n",
        "        if output_index != -1:\n",
        "            output_content = prompt_str[output_index + len(\"### Output:\"):]\n",
        "\n",
        "            #print(output_content)\n",
        "        else:\n",
        "            print(\"### Output: not found in the prompt.\")\n",
        "        return jsonify({\"message\": \"File successfully uploaded\", \"filename\": filename, \"ocr_result\": output_content}), 200\n",
        "\n",
        "app.run(port=port_no)"
      ],
      "metadata": {
        "colab": {
          "base_uri": "https://localhost:8080/"
        },
        "id": "OOJe2Mz4DDH_",
        "outputId": "84c35048-2181-4da4-8aad-9b13ec6e2c5e"
      },
      "execution_count": 35,
      "outputs": [
        {
          "output_type": "stream",
          "name": "stdout",
          "text": [
            "Drive already mounted at /content/drive; to attempt to forcibly remount, call drive.mount(\"/content/drive\", force_remount=True).\n",
            "To acces the Gloable link please click https://8323-34-125-135-49.ngrok-free.app\n",
            " * Serving Flask app '__main__'\n",
            " * Debug mode: off\n"
          ]
        },
        {
          "output_type": "stream",
          "name": "stderr",
          "text": [
            "INFO:werkzeug:\u001b[31m\u001b[1mWARNING: This is a development server. Do not use it in a production deployment. Use a production WSGI server instead.\u001b[0m\n",
            " * Running on http://127.0.0.1:5000\n",
            "INFO:werkzeug:\u001b[33mPress CTRL+C to quit\u001b[0m\n"
          ]
        },
        {
          "output_type": "stream",
          "name": "stdout",
          "text": [
            "[2024/07/15 14:48:20] ppocr WARNING: Since the angle classifier is not initialized, it will not be used during the forward process\n"
          ]
        },
        {
          "output_type": "stream",
          "name": "stderr",
          "text": [
            "Setting `pad_token_id` to `eos_token_id`:2 for open-end generation.\n"
          ]
        },
        {
          "output_type": "stream",
          "name": "stdout",
          "text": [
            "['405 N Vineyard Ave A', 'Cutsine of India', 'Ontar1o.CA 91764', '909-937-1282', 'Guest Check', 'ww.bombaycuisine.com', 'www.bombaybanquet.com', 'TABLEA2-1 Guest', 'Your server was Bombay Restaurant', '5/4/20144:54:58PM-ID#0094611', 'ITEM', 'QTYPRICE', 'Lamb Bhuna', '1$14.99', 'Basmati Bo1led Rice 1\\\\2 Order', '1', '$2.99', 'Naan', '$2.99', 'Subtotal', '$20.97', 'Total Taxes', '$1.68', 'Grand Total', '$22.65', 'Amount Due:', '$22.65', '22.65', 'Thank You', 'Please Come Back Again']\n",
            "[[[[111.0, 11.0], [219.0, 11.0], [219.0, 24.0], [111.0, 24.0]], ('405 N Vineyard Ave A', 0.9047333598136902)], [[[122.0, 3.0], [211.0, 2.0], [212.0, 13.0], [122.0, 14.0]], ('Cutsine of India', 0.8629553318023682)], [[[118.0, 21.0], [210.0, 21.0], [210.0, 34.0], [118.0, 34.0]], ('Ontar1o.CA 91764', 0.9007576107978821)], [[[135.0, 32.0], [199.0, 32.0], [199.0, 43.0], [135.0, 43.0]], ('909-937-1282', 0.9777025580406189)], [[[133.0, 42.0], [195.0, 42.0], [195.0, 55.0], [133.0, 55.0]], ('Guest Check', 0.9633426070213318)], [[[107.0, 53.0], [222.0, 53.0], [222.0, 66.0], [107.0, 66.0]], ('ww.bombaycuisine.com', 0.9453547596931458)], [[[107.0, 65.0], [222.0, 65.0], [222.0, 78.0], [107.0, 78.0]], ('www.bombaybanquet.com', 0.9330072999000549)], [[[112.0, 88.0], [218.0, 88.0], [218.0, 101.0], [112.0, 101.0]], ('TABLEA2-1 Guest', 0.9323757886886597)], [[[72.0, 102.0], [254.0, 102.0], [254.0, 115.0], [72.0, 115.0]], ('Your server was Bombay Restaurant', 0.9543538689613342)], [[[66.0, 114.0], [260.0, 113.0], [260.0, 127.0], [66.0, 128.0]], ('5/4/20144:54:58PM-ID#0094611', 0.9252204298973083)], [[[32.0, 139.0], [59.0, 139.0], [59.0, 154.0], [32.0, 154.0]], ('ITEM', 0.9902915358543396)], [[[242.0, 140.0], [301.0, 140.0], [301.0, 154.0], [242.0, 154.0]], ('QTYPRICE', 0.9888142347335815)], [[[31.0, 166.0], [90.0, 166.0], [90.0, 180.0], [31.0, 180.0]], ('Lamb Bhuna', 0.9648817181587219)], [[[247.0, 167.0], [303.0, 167.0], [303.0, 181.0], [247.0, 181.0]], ('1$14.99', 0.982724130153656)], [[[28.0, 179.0], [196.0, 180.0], [196.0, 194.0], [28.0, 193.0]], ('Basmati Bo1led Rice 1\\\\2 Order', 0.8968554139137268)], [[[250.0, 183.0], [258.0, 183.0], [258.0, 192.0], [250.0, 192.0]], ('1', 0.702950119972229)], [[[270.0, 181.0], [303.0, 181.0], [303.0, 195.0], [270.0, 195.0]], ('$2.99', 0.9955137968063354)], [[[29.0, 195.0], [53.0, 195.0], [53.0, 207.0], [29.0, 207.0]], ('Naan', 0.9984471797943115)], [[[271.0, 195.0], [303.0, 195.0], [303.0, 209.0], [271.0, 209.0]], ('$2.99', 0.9969491958618164)], [[[137.0, 220.0], [185.0, 220.0], [185.0, 235.0], [137.0, 235.0]], ('Subtotal', 0.9815846085548401)], [[[266.0, 221.0], [303.0, 221.0], [303.0, 235.0], [266.0, 235.0]], ('$20.97', 0.9934325814247131)], [[[137.0, 234.0], [204.0, 234.0], [204.0, 251.0], [137.0, 251.0]], ('Total Taxes', 0.95121169090271)], [[[271.0, 235.0], [303.0, 235.0], [303.0, 250.0], [271.0, 250.0]], ('$1.68', 0.9839032888412476)], [[[137.0, 264.0], [202.0, 264.0], [202.0, 278.0], [137.0, 278.0]], ('Grand Total', 0.9454994797706604)], [[[265.0, 263.0], [302.0, 263.0], [302.0, 277.0], [265.0, 277.0]], ('$22.65', 0.9917302131652832)], [[[136.0, 278.0], [200.0, 276.0], [201.0, 291.0], [137.0, 293.0]], ('Amount Due:', 0.9139955639839172)], [[[265.0, 276.0], [302.0, 276.0], [302.0, 290.0], [265.0, 290.0]], ('$22.65', 0.9914977550506592)], [[[268.0, 289.0], [300.0, 289.0], [300.0, 304.0], [268.0, 304.0]], ('22.65', 0.9936897158622742)], [[[137.0, 318.0], [194.0, 318.0], [194.0, 332.0], [137.0, 332.0]], ('Thank You', 0.9677908420562744)], [[[99.0, 331.0], [229.0, 326.0], [230.0, 343.0], [99.0, 347.0]], ('Please Come Back Again', 0.938293993473053)]]\n"
          ]
        },
        {
          "output_type": "stream",
          "name": "stderr",
          "text": [
            "INFO:werkzeug:127.0.0.1 - - [15/Jul/2024 14:49:28] \"POST /upload_ocr HTTP/1.1\" 200 -\n"
          ]
        },
        {
          "output_type": "stream",
          "name": "stdout",
          "text": [
            "<s> ### Instruction:\n",
            "        You are POS receipt data expert, parse, detect, recognize and convert following receipt OCR image result into structure receipt data object.\n",
            "        Don't make up value not in the Input. Output must be a well-formed JSON object.```json\n",
            "\n",
            "\n",
            "        ### Input:\n",
            "        [[[[111.0, 11.0], [219.0, 11.0], [219.0, 24.0], [111.0, 24.0]], ('405 N Vineyard Ave A', 0.9047333598136902)], [[[122.0, 3.0], [211.0, 2.0], [212.0, 13.0], [122.0, 14.0]], ('Cutsine of India', 0.8629553318023682)], [[[118.0, 21.0], [210.0, 21.0], [210.0, 34.0], [118.0, 34.0]], ('Ontar1o.CA 91764', 0.9007576107978821)], [[[135.0, 32.0], [199.0, 32.0], [199.0, 43.0], [135.0, 43.0]], ('909-937-1282', 0.9777025580406189)], [[[133.0, 42.0], [195.0, 42.0], [195.0, 55.0], [133.0, 55.0]], ('Guest Check', 0.9633426070213318)], [[[107.0, 53.0], [222.0, 53.0], [222.0, 66.0], [107.0, 66.0]], ('ww.bombaycuisine.com', 0.9453547596931458)], [[[107.0, 65.0], [222.0, 65.0], [222.0, 78.0], [107.0, 78.0]], ('www.bombaybanquet.com', 0.9330072999000549)], [[[112.0, 88.0], [218.0, 88.0], [218.0, 101.0], [112.0, 101.0]], ('TABLEA2-1 Guest', 0.9323757886886597)], [[[72.0, 102.0], [254.0, 102.0], [254.0, 115.0], [72.0, 115.0]], ('Your server was Bombay Restaurant', 0.9543538689613342)], [[[66.0, 114.0], [260.0, 113.0], [260.0, 127.0], [66.0, 128.0]], ('5/4/20144:54:58PM-ID#0094611', 0.9252204298973083)], [[[32.0, 139.0], [59.0, 139.0], [59.0, 154.0], [32.0, 154.0]], ('ITEM', 0.9902915358543396)], [[[242.0, 140.0], [301.0, 140.0], [301.0, 154.0], [242.0, 154.0]], ('QTYPRICE', 0.9888142347335815)], [[[31.0, 166.0], [90.0, 166.0], [90.0, 180.0], [31.0, 180.0]], ('Lamb Bhuna', 0.9648817181587219)], [[[247.0, 167.0], [303.0, 167.0], [303.0, 181.0], [247.0, 181.0]], ('1$14.99', 0.982724130153656)], [[[28.0, 179.0], [196.0, 180.0], [196.0, 194.0], [28.0, 193.0]], ('Basmati Bo1led Rice 1\\\\2 Order', 0.8968554139137268)], [[[250.0, 183.0], [258.0, 183.0], [258.0, 192.0], [250.0, 192.0]], ('1', 0.702950119972229)], [[[270.0, 181.0], [303.0, 181.0], [303.0, 195.0], [270.0, 195.0]], ('$2.99', 0.9955137968063354)], [[[29.0, 195.0], [53.0, 195.0], [53.0, 207.0], [29.0, 207.0]], ('Naan', 0.9984471797943115)], [[[271.0, 195.0], [303.0, 195.0], [303.0, 209.0], [271.0, 209.0]], ('$2.99', 0.9969491958618164)], [[[137.0, 220.0], [185.0, 220.0], [185.0, 235.0], [137.0, 235.0]], ('Subtotal', 0.9815846085548401)], [[[266.0, 221.0], [303.0, 221.0], [303.0, 235.0], [266.0, 235.0]], ('$20.97', 0.9934325814247131)], [[[137.0, 234.0], [204.0, 234.0], [204.0, 251.0], [137.0, 251.0]], ('Total Taxes', 0.95121169090271)], [[[271.0, 235.0], [303.0, 235.0], [303.0, 250.0], [271.0, 250.0]], ('$1.68', 0.9839032888412476)], [[[137.0, 264.0], [202.0, 264.0], [202.0, 278.0], [137.0, 278.0]], ('Grand Total', 0.9454994797706604)], [[[265.0, 263.0], [302.0, 263.0], [302.0, 277.0], [265.0, 277.0]], ('$22.65', 0.9917302131652832)], [[[136.0, 278.0], [200.0, 276.0], [201.0, 291.0], [137.0, 293.0]], ('Amount Due:', 0.9139955639839172)], [[[265.0, 276.0], [302.0, 276.0], [302.0, 290.0], [265.0, 290.0]], ('$22.65', 0.9914977550506592)], [[[268.0, 289.0], [300.0, 289.0], [300.0, 304.0], [268.0, 304.0]], ('22.65', 0.9936897158622742)], [[[137.0, 318.0], [194.0, 318.0], [194.0, 332.0], [137.0, 332.0]], ('Thank You', 0.9677908420562744)], [[[99.0, 331.0], [229.0, 326.0], [230.0, 343.0], [99.0, 347.0]], ('Please Come Back Again', 0.938293993473053)]]\n",
            "\n",
            "        ### Output:\n",
            "         {\n",
            "            \"receipt\": {\n",
            "                \"store\": {\n",
            "                    \"name\": \"Bombay Cuisine\",\n",
            "                    \"address\": \"405 N Vineyard Ave A\",\n",
            "                    \"phone\": \"909-937-1282\",\n",
            "                    \"website\": \"www.bombaycuisine.com\",\n",
            "                    \"website2\": \"www.bombaybanquet.com\"\n",
            "                },\n",
            "                \"items\": [\n",
            "                    {\n",
            "                        \"name\": \"Lamb Bhuna\",\n",
            "                        \"price\": 14.99,\n",
            "                        \"quantity\": 1\n",
            "                    },\n",
            "                    {\n",
            "                        \"name\": \"Basmati Bo1led Rice 1\\\\2 Order\",\n",
            "                        \"price\": 2.99,\n",
            "                        \"quantity\": 1\n",
            "                    },\n",
            "                    {\n",
            "                        \"name\": \"Naan\",\n",
            "                        \"price\": 2.99,\n",
            "                        \"quantity\": 1\n",
            "                    }\n",
            "                ],\n",
            "                \"subtotal\": 20.97,\n",
            "                \"tax\": 1.68,\n",
            "                \"total\": 22.65,\n",
            "                \"amount_due\": 22.65\n",
            "            }\n",
            "        }\n",
            "\n",
            "        ### Hints:\n",
            "        - You can use the following libraries:\n",
            "            - [PIL](https://pypi.org/project/Pillow/)\n",
            "            - [OpenCV](https://pypi.org/project/opencv-python/)\n",
            "            - [Numpy](https://pypi.org/project/numpy/)\n",
            "            - [Matplotlib](https://pypi.org/project/matplotlib/)\n",
            "            - [Scikit-learn](https://pypi.org/project/scikit-learn/)\n",
            "            - [Scipy](https://pypi.org/project/scipy/)\n",
            "            - [Pandas](https://pypi.org/project/pandas/)\n",
            "            - [PyPDF2](https://pypi.org/project/PyPDF2/)\n",
            "            - [PyPDF4](https\n",
            "[2024/07/15 14:49:55] ppocr WARNING: Since the angle classifier is not initialized, it will not be used during the forward process\n"
          ]
        },
        {
          "output_type": "stream",
          "name": "stderr",
          "text": [
            "Setting `pad_token_id` to `eos_token_id`:2 for open-end generation.\n"
          ]
        },
        {
          "output_type": "stream",
          "name": "stdout",
          "text": [
            "['Pizza Ht india', 'Sapphire Hosptality and Rocreat', 'A nit o', 'N.PVT LTDTriCopexKr indcor', 'Stadius.Ghod dhod roadSurat', 'CINU55101201210236494', '31095 Laichend', 'Tb120/', 'Chk1529', 'Gst 2', 'Customer/1529', 'May31170919PN', 'Dine In', '1 68 Chi1i Dheese', 'R.K', '76239924280ustorer', '129.00', '139.00', '1.CraofMushrun', '1Ned Cheese Max', '671.00', 'VegieSuprene', 'Dont Cook We', '50%', 'Dont Cook Ne', '335.50-', 'Sub Total', '603.50', 'Srv Charge', '60.35', 'SrTKCs5.%', '36.12', 'SBCess0.2%In', '1.25', 'Total Due', '664.00', 'SrTxKCess5.8 inc KKCess 0.2%', 'MTIN 24190104773vef09/07/2014', 'CST 24590104773wef09/07/2014', 'Service Tax No.AAEC045540S0002']\n",
            "[[[[114.0, 40.0], [183.0, 44.0], [182.0, 59.0], [113.0, 54.0]], ('Pizza Ht india', 0.8401680588722229)], [[[80.0, 61.0], [220.0, 65.0], [220.0, 78.0], [80.0, 74.0]], ('Sapphire Hosptality and Rocreat', 0.8754094839096069)], [[[125.0, 54.0], [171.0, 54.0], [171.0, 65.0], [125.0, 65.0]], ('A nit o', 0.7657282948493958)], [[[80.0, 71.0], [216.0, 74.0], [216.0, 89.0], [80.0, 85.0]], ('N.PVT LTDTriCopexKr indcor', 0.8006746768951416)], [[[88.0, 82.0], [213.0, 84.0], [213.0, 99.0], [88.0, 96.0]], ('Stadius.Ghod dhod roadSurat', 0.849765419960022)], [[[94.0, 94.0], [210.0, 94.0], [210.0, 107.0], [94.0, 107.0]], ('CINU55101201210236494', 0.870040774345398)], [[[67.0, 112.0], [135.0, 116.0], [134.0, 130.0], [66.0, 126.0]], ('31095 Laichend', 0.9391870498657227)], [[[64.0, 137.0], [103.0, 137.0], [103.0, 148.0], [64.0, 148.0]], ('Tb120/', 0.8265814781188965)], [[[134.0, 137.0], [173.0, 137.0], [173.0, 148.0], [134.0, 148.0]], ('Chk1529', 0.8236265182495117)], [[[210.0, 136.0], [241.0, 136.0], [241.0, 150.0], [210.0, 150.0]], ('Gst 2', 0.8145753145217896)], [[[122.0, 148.0], [182.0, 148.0], [182.0, 159.0], [122.0, 159.0]], ('Customer/1529', 0.9557545185089111)], [[[118.0, 159.0], [190.0, 159.0], [190.0, 170.0], [118.0, 170.0]], ('May31170919PN', 0.9252859354019165)], [[[84.0, 180.0], [148.0, 180.0], [148.0, 191.0], [84.0, 191.0]], ('Dine In', 0.9586424231529236)], [[[73.0, 199.0], [154.0, 199.0], [154.0, 212.0], [73.0, 212.0]], ('1 68 Chi1i Dheese', 0.7277123332023621)], [[[100.0, 190.0], [129.0, 190.0], [129.0, 201.0], [100.0, 201.0]], ('R.K', 0.9159777164459229)], [[[126.0, 190.0], [205.0, 190.0], [205.0, 200.0], [126.0, 200.0]], ('76239924280ustorer', 0.9108027219772339)], [[[201.0, 207.0], [231.0, 207.0], [231.0, 221.0], [201.0, 221.0]], ('129.00', 0.9539803862571716)], [[[202.0, 199.0], [229.0, 199.0], [229.0, 210.0], [202.0, 210.0]], ('139.00', 0.9905206561088562)], [[[75.0, 211.0], [142.0, 211.0], [142.0, 222.0], [75.0, 222.0]], ('1.CraofMushrun', 0.8137034177780151)], [[[73.0, 221.0], [155.0, 221.0], [155.0, 234.0], [73.0, 234.0]], ('1Ned Cheese Max', 0.8509019613265991)], [[[200.0, 218.0], [232.0, 218.0], [232.0, 232.0], [200.0, 232.0]], ('671.00', 0.9215207099914551)], [[[84.0, 233.0], [141.0, 233.0], [141.0, 244.0], [84.0, 244.0]], ('VegieSuprene', 0.9563047289848328)], [[[81.0, 243.0], [143.0, 241.0], [143.0, 254.0], [82.0, 256.0]], ('Dont Cook We', 0.8931434154510498)], [[[84.0, 255.0], [107.0, 255.0], [107.0, 266.0], [84.0, 266.0]], ('50%', 0.930091142654419)], [[[82.0, 265.0], [143.0, 263.0], [143.0, 277.0], [83.0, 279.0]], ('Dont Cook Ne', 0.9102513790130615)], [[[205.0, 261.0], [236.0, 261.0], [236.0, 272.0], [205.0, 272.0]], ('335.50-', 0.9319099187850952)], [[[85.0, 288.0], [128.0, 288.0], [128.0, 299.0], [85.0, 299.0]], ('Sub Total', 0.8542073369026184)], [[[205.0, 283.0], [235.0, 283.0], [235.0, 294.0], [205.0, 294.0]], ('603.50', 0.9847126603126526)], [[[83.0, 298.0], [139.0, 296.0], [139.0, 310.0], [84.0, 313.0]], ('Srv Charge', 0.8936139941215515)], [[[209.0, 292.0], [236.0, 292.0], [236.0, 307.0], [209.0, 307.0]], ('60.35', 0.9677560925483704)], [[[83.0, 310.0], [144.0, 307.0], [144.0, 321.0], [84.0, 324.0]], ('SrTKCs5.%', 0.7923581600189209)], [[[211.0, 304.0], [236.0, 304.0], [236.0, 316.0], [211.0, 316.0]], ('36.12', 0.980085015296936)], [[[83.0, 322.0], [144.0, 319.0], [144.0, 333.0], [84.0, 336.0]], ('SBCess0.2%In', 0.8663856387138367)], [[[215.0, 316.0], [237.0, 316.0], [237.0, 328.0], [215.0, 328.0]], ('1.25', 0.9761540293693542)], [[[84.0, 334.0], [131.0, 331.0], [132.0, 345.0], [85.0, 348.0]], ('Total Due', 0.8456693887710571)], [[[180.0, 329.0], [237.0, 326.0], [237.0, 339.0], [181.0, 342.0]], ('664.00', 0.9945855140686035)], [[[84.0, 369.0], [227.0, 360.0], [228.0, 374.0], [85.0, 383.0]], ('SrTxKCess5.8 inc KKCess 0.2%', 0.8351701498031616)], [[[84.0, 394.0], [229.0, 384.0], [230.0, 398.0], [85.0, 408.0]], ('MTIN 24190104773vef09/07/2014', 0.9484087824821472)], [[[84.0, 407.0], [226.0, 397.0], [227.0, 412.0], [85.0, 421.0]], ('CST 24590104773wef09/07/2014', 0.9299381375312805)], [[[83.0, 420.0], [237.0, 410.0], [237.0, 424.0], [84.0, 434.0]], ('Service Tax No.AAEC045540S0002', 0.8861644268035889)]]\n"
          ]
        },
        {
          "output_type": "stream",
          "name": "stderr",
          "text": [
            "INFO:werkzeug:127.0.0.1 - - [15/Jul/2024 14:51:12] \"POST /upload_ocr HTTP/1.1\" 200 -\n"
          ]
        },
        {
          "output_type": "stream",
          "name": "stdout",
          "text": [
            "<s> ### Instruction:\n",
            "        You are POS receipt data expert, parse, detect, recognize and convert following receipt OCR image result into structure receipt data object.\n",
            "        Don't make up value not in the Input. Output must be a well-formed JSON object.```json\n",
            "\n",
            "\n",
            "        ### Input:\n",
            "        [[[[114.0, 40.0], [183.0, 44.0], [182.0, 59.0], [113.0, 54.0]], ('Pizza Ht india', 0.8401680588722229)], [[[80.0, 61.0], [220.0, 65.0], [220.0, 78.0], [80.0, 74.0]], ('Sapphire Hosptality and Rocreat', 0.8754094839096069)], [[[125.0, 54.0], [171.0, 54.0], [171.0, 65.0], [125.0, 65.0]], ('A nit o', 0.7657282948493958)], [[[80.0, 71.0], [216.0, 74.0], [216.0, 89.0], [80.0, 85.0]], ('N.PVT LTDTriCopexKr indcor', 0.8006746768951416)], [[[88.0, 82.0], [213.0, 84.0], [213.0, 99.0], [88.0, 96.0]], ('Stadius.Ghod dhod roadSurat', 0.849765419960022)], [[[94.0, 94.0], [210.0, 94.0], [210.0, 107.0], [94.0, 107.0]], ('CINU55101201210236494', 0.870040774345398)], [[[67.0, 112.0], [135.0, 116.0], [134.0, 130.0], [66.0, 126.0]], ('31095 Laichend', 0.9391870498657227)], [[[64.0, 137.0], [103.0, 137.0], [103.0, 148.0], [64.0, 148.0]], ('Tb120/', 0.8265814781188965)], [[[134.0, 137.0], [173.0, 137.0], [173.0, 148.0], [134.0, 148.0]], ('Chk1529', 0.8236265182495117)], [[[210.0, 136.0], [241.0, 136.0], [241.0, 150.0], [210.0, 150.0]], ('Gst 2', 0.8145753145217896)], [[[122.0, 148.0], [182.0, 148.0], [182.0, 159.0], [122.0, 159.0]], ('Customer/1529', 0.9557545185089111)], [[[118.0, 159.0], [190.0, 159.0], [190.0, 170.0], [118.0, 170.0]], ('May31170919PN', 0.9252859354019165)], [[[84.0, 180.0], [148.0, 180.0], [148.0, 191.0], [84.0, 191.0]], ('Dine In', 0.9586424231529236)], [[[73.0, 199.0], [154.0, 199.0], [154.0, 212.0], [73.0, 212.0]], ('1 68 Chi1i Dheese', 0.7277123332023621)], [[[100.0, 190.0], [129.0, 190.0], [129.0, 201.0], [100.0, 201.0]], ('R.K', 0.9159777164459229)], [[[126.0, 190.0], [205.0, 190.0], [205.0, 200.0], [126.0, 200.0]], ('76239924280ustorer', 0.9108027219772339)], [[[201.0, 207.0], [231.0, 207.0], [231.0, 221.0], [201.0, 221.0]], ('129.00', 0.9539803862571716)], [[[202.0, 199.0], [229.0, 199.0], [229.0, 210.0], [202.0, 210.0]], ('139.00', 0.9905206561088562)], [[[75.0, 211.0], [142.0, 211.0], [142.0, 222.0], [75.0, 222.0]], ('1.CraofMushrun', 0.8137034177780151)], [[[73.0, 221.0], [155.0, 221.0], [155.0, 234.0], [73.0, 234.0]], ('1Ned Cheese Max', 0.8509019613265991)], [[[200.0, 218.0], [232.0, 218.0], [232.0, 232.0], [200.0, 232.0]], ('671.00', 0.9215207099914551)], [[[84.0, 233.0], [141.0, 233.0], [141.0, 244.0], [84.0, 244.0]], ('VegieSuprene', 0.9563047289848328)], [[[81.0, 243.0], [143.0, 241.0], [143.0, 254.0], [82.0, 256.0]], ('Dont Cook We', 0.8931434154510498)], [[[84.0, 255.0], [107.0, 255.0], [107.0, 266.0], [84.0, 266.0]], ('50%', 0.930091142654419)], [[[82.0, 265.0], [143.0, 263.0], [143.0, 277.0], [83.0, 279.0]], ('Dont Cook Ne', 0.9102513790130615)], [[[205.0, 261.0], [236.0, 261.0], [236.0, 272.0], [205.0, 272.0]], ('335.50-', 0.9319099187850952)], [[[85.0, 288.0], [128.0, 288.0], [128.0, 299.0], [85.0, 299.0]], ('Sub Total', 0.8542073369026184)], [[[205.0, 283.0], [235.0, 283.0], [235.0, 294.0], [205.0, 294.0]], ('603.50', 0.9847126603126526)], [[[83.0, 298.0], [139.0, 296.0], [139.0, 310.0], [84.0, 313.0]], ('Srv Charge', 0.8936139941215515)], [[[209.0, 292.0], [236.0, 292.0], [236.0, 307.0], [209.0, 307.0]], ('60.35', 0.9677560925483704)], [[[83.0, 310.0], [144.0, 307.0], [144.0, 321.0], [84.0, 324.0]], ('SrTKCs5.%', 0.7923581600189209)], [[[211.0, 304.0], [236.0, 304.0], [236.0, 316.0], [211.0, 316.0]], ('36.12', 0.980085015296936)], [[[83.0, 322.0], [144.0, 319.0], [144.0, 333.0], [84.0, 336.0]], ('SBCess0.2%In', 0.8663856387138367)], [[[215.0, 316.0], [237.0, 316.0], [237.0, 328.0], [215.0, 328.0]], ('1.25', 0.9761540293693542)], [[[84.0, 334.0], [131.0, 331.0], [132.0, 345.0], [85.0, 348.0]], ('Total Due', 0.8456693887710571)], [[[180.0, 329.0], [237.0, 326.0], [237.0, 339.0], [181.0, 342.0]], ('664.00', 0.9945855140686035)], [[[84.0, 369.0], [227.0, 360.0], [228.0, 374.0], [85.0, 383.0]], ('SrTxKCess5.8 inc KKCess 0.2%', 0.8351701498031616)], [[[84.0, 394.0], [229.0, 384.0], [230.0, 398.0], [85.0, 408.0]], ('MTIN 24190104773vef09/07/2014', 0.9484087824821472)], [[[84.0, 407.0], [226.0, 397.0], [227.0, 412.0], [85.0, 421.0]], ('CST 24590104773wef09/07/2014', 0.9299381375312805)], [[[83.0, 420.0], [237.0, 410.0], [237.0, 424.0], [84.0, 434.0]], ('Service Tax No.AAEC045540S0002', 0.8861644268035889)]]\n",
            "\n",
            "        ### Output:\n",
            "         {\n",
            "            \"receipt\": {\n",
            "                \"receipt_id\": \"24190104773\",\n",
            "                \"receipt_date\": \"09/07/2014\",\n",
            "                \"receipt_time\": \"12:00:00\",\n",
            "                \"receipt_type\": \"POS\",\n",
            "                \"receipt_status\": \"PAID\",\n",
            "                \"receipt_total\": 664.0,\n",
            "                \"receipt_tax\": 12.5,\n",
            "                \"receipt_discount\": 0.0,\n",
            "                \"receipt_subtotal\": 651.5,\n",
            "                \"receipt_customer\": {\n",
            "                    \"customer_id\": \"1529\",\n",
            "                    \"customer_name\": \"Customer/1529\",\n",
            "                    \"customer_address\": \"Gst 2\",\n",
            "                    \"customer_phone\": \"91529\",\n",
            "                    \"customer_email\": \"1529@gmail.com\",\n",
            "                    \"customer_type\": \"CUSTOMER\"\n",
            "                },\n",
            "                \"receipt_items\": [\n",
            "                    {\n",
            "                        \"item_id\": \"31095\",\n",
            "                        \"item_name\": \"Laichend\",\n",
            "                        \"item_price\": 1.68,\n",
            "                        \"item_quantity\": 1,\n",
            "                        \"item_total\": 1.68,\n",
            "                        \"item_tax\": 0.0,\n",
            "                        \"item_discount\": 0.0,\n",
            "                        \"item_subtotal\": 1.68,\n",
            "                        \"item_type\": \"ITEM\"\n",
            "                    },\n",
            "                    {\n",
            "                        \"item_id\": \"1529\",\n",
            "                        \"item_name\": \"Customer/1529\",\n",
            "                        \"item_price\": 0.0,\n",
            "                        \"item_quantity\": 1,\n",
            "                        \"item_total\": 0.0,\n",
            "                        \"item_tax\": 0.0,\n",
            "                        \"item_discount\": 0.0\n"
          ]
        },
        {
          "output_type": "stream",
          "name": "stderr",
          "text": [
            "WARNING:pyngrok.process.ngrok:t=2024-07-15T14:53:19+0000 lvl=warn msg=\"Stopping forwarder\" name=http-5000-c4d7aa36-4e11-4a1f-a12f-938ad552cdd3 acceptErr=\"failed to accept connection: Listener closed\"\n",
            "WARNING:pyngrok.process.ngrok:t=2024-07-15T14:53:19+0000 lvl=warn msg=\"Error restarting forwarder\" name=http-5000-c4d7aa36-4e11-4a1f-a12f-938ad552cdd3 err=\"failed to start tunnel: session closed\"\n"
          ]
        }
      ]
    },
    {
      "cell_type": "code",
      "source": [],
      "metadata": {
        "id": "AkVJWXWDcJeq"
      },
      "execution_count": null,
      "outputs": []
    }
  ],
  "metadata": {
    "colab": {
      "provenance": [],
      "gpuType": "T4"
    },
    "kernelspec": {
      "display_name": "Python 3",
      "name": "python3"
    },
    "accelerator": "GPU",
    "widgets": {
      "application/vnd.jupyter.widget-state+json": {
        "577e7eb092de4c2598a898c4f8f8b9e2": {
          "model_module": "@jupyter-widgets/controls",
          "model_name": "HBoxModel",
          "model_module_version": "1.5.0",
          "state": {
            "_dom_classes": [],
            "_model_module": "@jupyter-widgets/controls",
            "_model_module_version": "1.5.0",
            "_model_name": "HBoxModel",
            "_view_count": null,
            "_view_module": "@jupyter-widgets/controls",
            "_view_module_version": "1.5.0",
            "_view_name": "HBoxView",
            "box_style": "",
            "children": [
              "IPY_MODEL_5f8bbff1376e4628894c09c836343dea",
              "IPY_MODEL_36ba2124ceca46f9834c3106fa7cc819",
              "IPY_MODEL_7ea631e128bb4ebcb06d39e7cc7fa9d4"
            ],
            "layout": "IPY_MODEL_d10ac3f61cb64929b1513db9e3cae897"
          }
        },
        "5f8bbff1376e4628894c09c836343dea": {
          "model_module": "@jupyter-widgets/controls",
          "model_name": "HTMLModel",
          "model_module_version": "1.5.0",
          "state": {
            "_dom_classes": [],
            "_model_module": "@jupyter-widgets/controls",
            "_model_module_version": "1.5.0",
            "_model_name": "HTMLModel",
            "_view_count": null,
            "_view_module": "@jupyter-widgets/controls",
            "_view_module_version": "1.5.0",
            "_view_name": "HTMLView",
            "description": "",
            "description_tooltip": null,
            "layout": "IPY_MODEL_c5cec09323aa49a88369a895e14b20bb",
            "placeholder": "​",
            "style": "IPY_MODEL_7078d58aaff2435c913e8dbcfef6acfd",
            "value": "Loading checkpoint shards: 100%"
          }
        },
        "36ba2124ceca46f9834c3106fa7cc819": {
          "model_module": "@jupyter-widgets/controls",
          "model_name": "FloatProgressModel",
          "model_module_version": "1.5.0",
          "state": {
            "_dom_classes": [],
            "_model_module": "@jupyter-widgets/controls",
            "_model_module_version": "1.5.0",
            "_model_name": "FloatProgressModel",
            "_view_count": null,
            "_view_module": "@jupyter-widgets/controls",
            "_view_module_version": "1.5.0",
            "_view_name": "ProgressView",
            "bar_style": "success",
            "description": "",
            "description_tooltip": null,
            "layout": "IPY_MODEL_e7944c69e5814d4a9dffe9f84f2c87c1",
            "max": 2,
            "min": 0,
            "orientation": "horizontal",
            "style": "IPY_MODEL_d481e83b0ff548859721d407dd5ec765",
            "value": 2
          }
        },
        "7ea631e128bb4ebcb06d39e7cc7fa9d4": {
          "model_module": "@jupyter-widgets/controls",
          "model_name": "HTMLModel",
          "model_module_version": "1.5.0",
          "state": {
            "_dom_classes": [],
            "_model_module": "@jupyter-widgets/controls",
            "_model_module_version": "1.5.0",
            "_model_name": "HTMLModel",
            "_view_count": null,
            "_view_module": "@jupyter-widgets/controls",
            "_view_module_version": "1.5.0",
            "_view_name": "HTMLView",
            "description": "",
            "description_tooltip": null,
            "layout": "IPY_MODEL_6ad83504ea2a4bdebf99597c5914e2b3",
            "placeholder": "​",
            "style": "IPY_MODEL_c51c15f6b4e448e6bc8004cd848ecc84",
            "value": " 2/2 [01:10&lt;00:00, 33.01s/it]"
          }
        },
        "d10ac3f61cb64929b1513db9e3cae897": {
          "model_module": "@jupyter-widgets/base",
          "model_name": "LayoutModel",
          "model_module_version": "1.2.0",
          "state": {
            "_model_module": "@jupyter-widgets/base",
            "_model_module_version": "1.2.0",
            "_model_name": "LayoutModel",
            "_view_count": null,
            "_view_module": "@jupyter-widgets/base",
            "_view_module_version": "1.2.0",
            "_view_name": "LayoutView",
            "align_content": null,
            "align_items": null,
            "align_self": null,
            "border": null,
            "bottom": null,
            "display": null,
            "flex": null,
            "flex_flow": null,
            "grid_area": null,
            "grid_auto_columns": null,
            "grid_auto_flow": null,
            "grid_auto_rows": null,
            "grid_column": null,
            "grid_gap": null,
            "grid_row": null,
            "grid_template_areas": null,
            "grid_template_columns": null,
            "grid_template_rows": null,
            "height": null,
            "justify_content": null,
            "justify_items": null,
            "left": null,
            "margin": null,
            "max_height": null,
            "max_width": null,
            "min_height": null,
            "min_width": null,
            "object_fit": null,
            "object_position": null,
            "order": null,
            "overflow": null,
            "overflow_x": null,
            "overflow_y": null,
            "padding": null,
            "right": null,
            "top": null,
            "visibility": null,
            "width": null
          }
        },
        "c5cec09323aa49a88369a895e14b20bb": {
          "model_module": "@jupyter-widgets/base",
          "model_name": "LayoutModel",
          "model_module_version": "1.2.0",
          "state": {
            "_model_module": "@jupyter-widgets/base",
            "_model_module_version": "1.2.0",
            "_model_name": "LayoutModel",
            "_view_count": null,
            "_view_module": "@jupyter-widgets/base",
            "_view_module_version": "1.2.0",
            "_view_name": "LayoutView",
            "align_content": null,
            "align_items": null,
            "align_self": null,
            "border": null,
            "bottom": null,
            "display": null,
            "flex": null,
            "flex_flow": null,
            "grid_area": null,
            "grid_auto_columns": null,
            "grid_auto_flow": null,
            "grid_auto_rows": null,
            "grid_column": null,
            "grid_gap": null,
            "grid_row": null,
            "grid_template_areas": null,
            "grid_template_columns": null,
            "grid_template_rows": null,
            "height": null,
            "justify_content": null,
            "justify_items": null,
            "left": null,
            "margin": null,
            "max_height": null,
            "max_width": null,
            "min_height": null,
            "min_width": null,
            "object_fit": null,
            "object_position": null,
            "order": null,
            "overflow": null,
            "overflow_x": null,
            "overflow_y": null,
            "padding": null,
            "right": null,
            "top": null,
            "visibility": null,
            "width": null
          }
        },
        "7078d58aaff2435c913e8dbcfef6acfd": {
          "model_module": "@jupyter-widgets/controls",
          "model_name": "DescriptionStyleModel",
          "model_module_version": "1.5.0",
          "state": {
            "_model_module": "@jupyter-widgets/controls",
            "_model_module_version": "1.5.0",
            "_model_name": "DescriptionStyleModel",
            "_view_count": null,
            "_view_module": "@jupyter-widgets/base",
            "_view_module_version": "1.2.0",
            "_view_name": "StyleView",
            "description_width": ""
          }
        },
        "e7944c69e5814d4a9dffe9f84f2c87c1": {
          "model_module": "@jupyter-widgets/base",
          "model_name": "LayoutModel",
          "model_module_version": "1.2.0",
          "state": {
            "_model_module": "@jupyter-widgets/base",
            "_model_module_version": "1.2.0",
            "_model_name": "LayoutModel",
            "_view_count": null,
            "_view_module": "@jupyter-widgets/base",
            "_view_module_version": "1.2.0",
            "_view_name": "LayoutView",
            "align_content": null,
            "align_items": null,
            "align_self": null,
            "border": null,
            "bottom": null,
            "display": null,
            "flex": null,
            "flex_flow": null,
            "grid_area": null,
            "grid_auto_columns": null,
            "grid_auto_flow": null,
            "grid_auto_rows": null,
            "grid_column": null,
            "grid_gap": null,
            "grid_row": null,
            "grid_template_areas": null,
            "grid_template_columns": null,
            "grid_template_rows": null,
            "height": null,
            "justify_content": null,
            "justify_items": null,
            "left": null,
            "margin": null,
            "max_height": null,
            "max_width": null,
            "min_height": null,
            "min_width": null,
            "object_fit": null,
            "object_position": null,
            "order": null,
            "overflow": null,
            "overflow_x": null,
            "overflow_y": null,
            "padding": null,
            "right": null,
            "top": null,
            "visibility": null,
            "width": null
          }
        },
        "d481e83b0ff548859721d407dd5ec765": {
          "model_module": "@jupyter-widgets/controls",
          "model_name": "ProgressStyleModel",
          "model_module_version": "1.5.0",
          "state": {
            "_model_module": "@jupyter-widgets/controls",
            "_model_module_version": "1.5.0",
            "_model_name": "ProgressStyleModel",
            "_view_count": null,
            "_view_module": "@jupyter-widgets/base",
            "_view_module_version": "1.2.0",
            "_view_name": "StyleView",
            "bar_color": null,
            "description_width": ""
          }
        },
        "6ad83504ea2a4bdebf99597c5914e2b3": {
          "model_module": "@jupyter-widgets/base",
          "model_name": "LayoutModel",
          "model_module_version": "1.2.0",
          "state": {
            "_model_module": "@jupyter-widgets/base",
            "_model_module_version": "1.2.0",
            "_model_name": "LayoutModel",
            "_view_count": null,
            "_view_module": "@jupyter-widgets/base",
            "_view_module_version": "1.2.0",
            "_view_name": "LayoutView",
            "align_content": null,
            "align_items": null,
            "align_self": null,
            "border": null,
            "bottom": null,
            "display": null,
            "flex": null,
            "flex_flow": null,
            "grid_area": null,
            "grid_auto_columns": null,
            "grid_auto_flow": null,
            "grid_auto_rows": null,
            "grid_column": null,
            "grid_gap": null,
            "grid_row": null,
            "grid_template_areas": null,
            "grid_template_columns": null,
            "grid_template_rows": null,
            "height": null,
            "justify_content": null,
            "justify_items": null,
            "left": null,
            "margin": null,
            "max_height": null,
            "max_width": null,
            "min_height": null,
            "min_width": null,
            "object_fit": null,
            "object_position": null,
            "order": null,
            "overflow": null,
            "overflow_x": null,
            "overflow_y": null,
            "padding": null,
            "right": null,
            "top": null,
            "visibility": null,
            "width": null
          }
        },
        "c51c15f6b4e448e6bc8004cd848ecc84": {
          "model_module": "@jupyter-widgets/controls",
          "model_name": "DescriptionStyleModel",
          "model_module_version": "1.5.0",
          "state": {
            "_model_module": "@jupyter-widgets/controls",
            "_model_module_version": "1.5.0",
            "_model_name": "DescriptionStyleModel",
            "_view_count": null,
            "_view_module": "@jupyter-widgets/base",
            "_view_module_version": "1.2.0",
            "_view_name": "StyleView",
            "description_width": ""
          }
        }
      }
    }
  },
  "nbformat": 4,
  "nbformat_minor": 0
}